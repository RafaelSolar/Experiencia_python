{
 "cells": [
  {
   "cell_type": "code",
   "execution_count": 2,
   "metadata": {},
   "outputs": [],
   "source": [
    "from ApylabradosModule import Pawns, Word, FrequencyTable, Board, Dictionary , Main_Ayuda\n",
    "import os"
   ]
  },
  {
   "cell_type": "code",
   "execution_count": 3,
   "metadata": {},
   "outputs": [],
   "source": [
    "board = Board()"
   ]
  },
  {
   "cell_type": "code",
   "execution_count": 4,
   "metadata": {},
   "outputs": [
    {
     "data": {
      "text/plain": [
       "0"
      ]
     },
     "execution_count": 4,
     "metadata": {},
     "output_type": "execute_result"
    }
   ],
   "source": [
    "board.score"
   ]
  },
  {
   "cell_type": "code",
   "execution_count": 5,
   "metadata": {},
   "outputs": [
    {
     "name": "stdout",
     "output_type": "stream",
     "text": [
      "Bienvenidos al juego Apylabrados\n",
      "\n",
      "Espero que se diviertan :).\n",
      "Intrucciones:\n",
      "\n",
      "El  juego consiste en escribir palabras correctas en un tablero 15x15.\n",
      "\n",
      "Por cada ficha nueva se suman los puntos dependiendo de la letra.\n",
      "\n",
      "El juego termina hasta que ya no queden mÃ¡s fichas o tu decidas terminarlo.\n",
      "\n",
      "Pasos:\n",
      "\n",
      "1.- Escribir las coordenadas 'x' y 'y' \n",
      "\n",
      "2.- Escribir la palabra\n",
      "\n",
      "3.- Escribir la direcciÃ³n \"V\" o \"H\"\n",
      "\n",
      "\n",
      "\n",
      "Restricciones:\n",
      "\n",
      "1.- La primera palabra debe tener al menos una ficha situada en la casilla central.\n",
      "\n",
      "2.- La palabra no puede salirse de los lÃ­mites del tablero.\n",
      "\n",
      "3.- Todas las palabras, a excepciÃ³n de la primera, deben usar una ficha ya existente en el tablero.\n",
      "\n",
      "4.- No se puede situar una ficha en una casilla ya ocupada por otra ficha diferente.\n",
      "\n",
      "5.- Hay que colocar al menos una nueva ficha en el tablero.\n",
      "\n",
      "6.- No puede haber una ficha al principio o al final de la palabra que se vaya a colocar sobre el tablero si Ã©sta no pertenece a la palabra.\n"
     ]
    }
   ],
   "source": [
    "Main_Ayuda.helper_welcome()\n",
    "Main_Ayuda.helper_intructions()"
   ]
  },
  {
   "cell_type": "code",
   "execution_count": 6,
   "metadata": {},
   "outputs": [
    {
     "name": "stdout",
     "output_type": "stream",
     "text": [
      "Tus fichas son las siguientes.\n",
      "Frecuencia de letra A : 1\n",
      "Frecuencia de letra E : 1\n",
      "Frecuencia de letra H : 1\n",
      "Frecuencia de letra O : 2\n",
      "Frecuencia de letra T : 1\n",
      "Frecuencia de letra U : 1\n"
     ]
    }
   ],
   "source": [
    "bag_of_pawns = Pawns()\n",
    "bag_of_pawns.createBag\n",
    "player_pawns = Pawns()\n",
    "for _ in range(7):\n",
    "    player_pawns.addPawn(bag_of_pawns.takeRandomPawn)\n",
    "player_pawn_frequency = player_pawns.getFrequency\n",
    "print(\"Tus fichas son las siguientes.\")\n",
    "player_pawns.showPawns"
   ]
  },
  {
   "cell_type": "code",
   "execution_count": 8,
   "metadata": {},
   "outputs": [
    {
     "name": "stdout",
     "output_type": "stream",
     "text": [
      "indica la posición del 0 - 14, filas y columnas y la dirección Vertical 'V' u Horizontal 'H'\n"
     ]
    },
    {
     "ename": "ValueError",
     "evalue": "list.remove(x): x not in list",
     "output_type": "error",
     "traceback": [
      "\u001b[1;31m---------------------------------------------------------------------------\u001b[0m",
      "\u001b[1;31mValueError\u001b[0m                                Traceback (most recent call last)",
      "\u001b[1;32m~\\AppData\\Local\\Temp/ipykernel_5892/2533137986.py\u001b[0m in \u001b[0;36m<module>\u001b[1;34m\u001b[0m\n\u001b[0;32m      6\u001b[0m         \u001b[0mos\u001b[0m\u001b[1;33m.\u001b[0m\u001b[0msystem\u001b[0m \u001b[1;33m(\u001b[0m\u001b[1;34m\"cls\"\u001b[0m\u001b[1;33m)\u001b[0m\u001b[1;33m\u001b[0m\u001b[1;33m\u001b[0m\u001b[0m\n\u001b[0;32m      7\u001b[0m         \u001b[0mflag\u001b[0m \u001b[1;33m=\u001b[0m \u001b[0minput\u001b[0m\u001b[1;33m(\u001b[0m\u001b[1;34m\"Pesiona cualquier tecla para continuar: \"\u001b[0m\u001b[1;33m)\u001b[0m\u001b[1;33m\u001b[0m\u001b[1;33m\u001b[0m\u001b[0m\n\u001b[1;32m----> 8\u001b[1;33m     \u001b[0mMain_Ayuda\u001b[0m\u001b[1;33m.\u001b[0m\u001b[0mplay_word\u001b[0m\u001b[1;33m(\u001b[0m\u001b[0mplayer_pawns\u001b[0m\u001b[1;33m,\u001b[0m \u001b[0mboard\u001b[0m \u001b[1;33m=\u001b[0m \u001b[0mboard\u001b[0m\u001b[1;33m)\u001b[0m\u001b[1;33m\u001b[0m\u001b[1;33m\u001b[0m\u001b[0m\n\u001b[0m\u001b[0;32m      9\u001b[0m     \u001b[0mcontinuar\u001b[0m \u001b[1;33m=\u001b[0m \u001b[0mMain_Ayuda\u001b[0m\u001b[1;33m.\u001b[0m\u001b[0moptions_end\u001b[0m\u001b[1;33m(\u001b[0m\u001b[0mplayer_pawns\u001b[0m\u001b[1;33m,\u001b[0m \u001b[0mboard\u001b[0m\u001b[1;33m)\u001b[0m\u001b[1;33m\u001b[0m\u001b[1;33m\u001b[0m\u001b[0m\n\u001b[0;32m     10\u001b[0m \u001b[1;33m\u001b[0m\u001b[0m\n",
      "\u001b[1;32mf:\\CARPETAS\\Cursos\\Python\\proyecto\\ApylabradosModule.py\u001b[0m in \u001b[0;36mplay_word\u001b[1;34m(player, board)\u001b[0m\n\u001b[0;32m    480\u001b[0m                 \u001b[0mis_posible\u001b[0m \u001b[1;33m=\u001b[0m \u001b[0mboard\u001b[0m\u001b[1;33m.\u001b[0m\u001b[0misPossible\u001b[0m\u001b[1;33m(\u001b[0m\u001b[0mword\u001b[0m\u001b[1;33m,\u001b[0m \u001b[0mx\u001b[0m\u001b[1;33m,\u001b[0m \u001b[0my\u001b[0m\u001b[1;33m,\u001b[0m\u001b[0mdirec\u001b[0m\u001b[1;33m)\u001b[0m\u001b[1;33m\u001b[0m\u001b[1;33m\u001b[0m\u001b[0m\n\u001b[0;32m    481\u001b[0m                 \u001b[1;32mif\u001b[0m \u001b[0mis_posible\u001b[0m\u001b[1;33m[\u001b[0m\u001b[1;36m0\u001b[0m\u001b[1;33m]\u001b[0m\u001b[1;33m:\u001b[0m\u001b[1;33m\u001b[0m\u001b[1;33m\u001b[0m\u001b[0m\n\u001b[1;32m--> 482\u001b[1;33m                     \u001b[0mboard\u001b[0m\u001b[1;33m.\u001b[0m\u001b[0mplaceWord\u001b[0m\u001b[1;33m(\u001b[0m\u001b[0mplayer\u001b[0m\u001b[1;33m,\u001b[0m \u001b[0mword\u001b[0m\u001b[1;33m,\u001b[0m \u001b[0mx\u001b[0m\u001b[1;33m,\u001b[0m \u001b[0my\u001b[0m\u001b[1;33m,\u001b[0m \u001b[0mdirec\u001b[0m\u001b[1;33m)\u001b[0m\u001b[1;33m\u001b[0m\u001b[1;33m\u001b[0m\u001b[0m\n\u001b[0m\u001b[0;32m    483\u001b[0m                     \u001b[0mboard\u001b[0m\u001b[1;33m.\u001b[0m\u001b[0mshowBoard\u001b[0m\u001b[1;33m\u001b[0m\u001b[1;33m\u001b[0m\u001b[0m\n\u001b[0;32m    484\u001b[0m                     \u001b[1;32mbreak\u001b[0m\u001b[1;33m\u001b[0m\u001b[1;33m\u001b[0m\u001b[0m\n",
      "\u001b[1;32mf:\\CARPETAS\\Cursos\\Python\\proyecto\\ApylabradosModule.py\u001b[0m in \u001b[0;36mplaceWord\u001b[1;34m(self, player_pawns, word, x, y, direction)\u001b[0m\n\u001b[0;32m    280\u001b[0m                 \u001b[1;32melse\u001b[0m\u001b[1;33m:\u001b[0m\u001b[1;33m\u001b[0m\u001b[1;33m\u001b[0m\u001b[0m\n\u001b[0;32m    281\u001b[0m                     \u001b[0mself\u001b[0m\u001b[1;33m.\u001b[0m\u001b[0mboard\u001b[0m\u001b[1;33m[\u001b[0m\u001b[0mx\u001b[0m\u001b[1;33m,\u001b[0m\u001b[0my\u001b[0m\u001b[1;33m+\u001b[0m\u001b[0mi\u001b[0m\u001b[1;33m]\u001b[0m \u001b[1;33m=\u001b[0m \u001b[0mword\u001b[0m\u001b[1;33m.\u001b[0m\u001b[0mword\u001b[0m\u001b[1;33m[\u001b[0m\u001b[0mi\u001b[0m\u001b[1;33m]\u001b[0m\u001b[1;33m\u001b[0m\u001b[1;33m\u001b[0m\u001b[0m\n\u001b[1;32m--> 282\u001b[1;33m                     \u001b[0mplayer_pawns\u001b[0m\u001b[1;33m.\u001b[0m\u001b[0mtakePawn\u001b[0m\u001b[1;33m(\u001b[0m\u001b[0mword\u001b[0m\u001b[1;33m.\u001b[0m\u001b[0mword\u001b[0m\u001b[1;33m[\u001b[0m\u001b[0mi\u001b[0m\u001b[1;33m]\u001b[0m\u001b[1;33m)\u001b[0m\u001b[1;33m\u001b[0m\u001b[1;33m\u001b[0m\u001b[0m\n\u001b[0m\u001b[0;32m    283\u001b[0m                     \u001b[0mself\u001b[0m\u001b[1;33m.\u001b[0m\u001b[0mtotalPawns\u001b[0m \u001b[1;33m+=\u001b[0m \u001b[1;36m1\u001b[0m\u001b[1;33m\u001b[0m\u001b[1;33m\u001b[0m\u001b[0m\n\u001b[0;32m    284\u001b[0m                     \u001b[0mBoard\u001b[0m\u001b[1;33m.\u001b[0m\u001b[0mscore\u001b[0m \u001b[1;33m+=\u001b[0m \u001b[0mPawns\u001b[0m\u001b[1;33m.\u001b[0m\u001b[0mgetPoints\u001b[0m\u001b[1;33m(\u001b[0m\u001b[0mword\u001b[0m\u001b[1;33m.\u001b[0m\u001b[0mword\u001b[0m\u001b[1;33m[\u001b[0m\u001b[0mi\u001b[0m\u001b[1;33m]\u001b[0m\u001b[1;33m)\u001b[0m\u001b[1;33m\u001b[0m\u001b[1;33m\u001b[0m\u001b[0m\n",
      "\u001b[1;32mf:\\CARPETAS\\Cursos\\Python\\proyecto\\ApylabradosModule.py\u001b[0m in \u001b[0;36mtakePawn\u001b[1;34m(self, c)\u001b[0m\n\u001b[0;32m     77\u001b[0m     \u001b[1;32mdef\u001b[0m \u001b[0mtakePawn\u001b[0m\u001b[1;33m(\u001b[0m\u001b[0mself\u001b[0m\u001b[1;33m,\u001b[0m \u001b[0mc\u001b[0m\u001b[1;33m)\u001b[0m\u001b[1;33m:\u001b[0m\u001b[1;33m\u001b[0m\u001b[1;33m\u001b[0m\u001b[0m\n\u001b[0;32m     78\u001b[0m         \u001b[1;32massert\u001b[0m \u001b[0mtype\u001b[0m\u001b[1;33m(\u001b[0m\u001b[0mc\u001b[0m\u001b[1;33m)\u001b[0m \u001b[1;33m==\u001b[0m \u001b[0mstr\u001b[0m \u001b[1;32mand\u001b[0m \u001b[0mlen\u001b[0m\u001b[1;33m(\u001b[0m\u001b[0mc\u001b[0m\u001b[1;33m)\u001b[0m \u001b[1;33m==\u001b[0m \u001b[1;36m1\u001b[0m\u001b[1;33m,\u001b[0m \u001b[1;34m\"c debe ser un caracter\"\u001b[0m\u001b[1;33m\u001b[0m\u001b[1;33m\u001b[0m\u001b[0m\n\u001b[1;32m---> 79\u001b[1;33m         \u001b[0mself\u001b[0m\u001b[1;33m.\u001b[0m\u001b[0mletters\u001b[0m\u001b[1;33m.\u001b[0m\u001b[0mremove\u001b[0m\u001b[1;33m(\u001b[0m\u001b[0mc\u001b[0m\u001b[1;33m)\u001b[0m\u001b[1;33m\u001b[0m\u001b[1;33m\u001b[0m\u001b[0m\n\u001b[0m\u001b[0;32m     80\u001b[0m \u001b[1;33m\u001b[0m\u001b[0m\n\u001b[0;32m     81\u001b[0m     \u001b[1;33m@\u001b[0m\u001b[0mproperty\u001b[0m\u001b[1;33m\u001b[0m\u001b[1;33m\u001b[0m\u001b[0m\n",
      "\u001b[1;31mValueError\u001b[0m: list.remove(x): x not in list"
     ]
    }
   ],
   "source": [
    "continuar = True\n",
    "while bag_of_pawns.getTotalPawns > 0 and continuar:\n",
    "    Main_Ayuda.help_palabras(player_pwans=player_pawns, board = board)\n",
    "    flag = \"\"\n",
    "    while len(flag) == 0:\n",
    "        os.system (\"cls\") \n",
    "        flag = input(\"Pesiona cualquier tecla para continuar: \")\n",
    "    Main_Ayuda.play_word(player_pawns, board = board)\n",
    "    continuar = Main_Ayuda.options_end(player_pawns, board)\n",
    "    "
   ]
  }
 ],
 "metadata": {
  "interpreter": {
   "hash": "08a402f7958e52253c749cc4f3bccfe0076adead38207d93fd2e91a8cafc5857"
  },
  "kernelspec": {
   "display_name": "Python 3.9.7 64-bit ('base': conda)",
   "language": "python",
   "name": "python3"
  },
  "language_info": {
   "codemirror_mode": {
    "name": "ipython",
    "version": 3
   },
   "file_extension": ".py",
   "mimetype": "text/x-python",
   "name": "python",
   "nbconvert_exporter": "python",
   "pygments_lexer": "ipython3",
   "version": "3.9.7"
  },
  "orig_nbformat": 4
 },
 "nbformat": 4,
 "nbformat_minor": 2
}
