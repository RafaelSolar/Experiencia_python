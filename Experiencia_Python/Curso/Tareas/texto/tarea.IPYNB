{
 "cells": [
  {
   "cell_type": "markdown",
   "metadata": {},
   "source": [
    "# Problema 1"
   ]
  },
  {
   "cell_type": "code",
   "execution_count": 3,
   "metadata": {},
   "outputs": [],
   "source": [
    "name, surname, age, color = input(\"Ingresa tu nombre: \"),input(\"Ingresa tu apellido: \"),int(input(\"Ingresa tu edad: \")),input(\"Ingresa tu color preferido: \")\n",
    "dicc_info = {\"name\":name,\"surname\":surname,\"age\":age,\"color\":color}"
   ]
  },
  {
   "cell_type": "code",
   "execution_count": 17,
   "metadata": {},
   "outputs": [],
   "source": [
    "f =  open(\"F:/CARPETAS/Cursos/Python/Tareas/texto/texto_1.txt\", mode = \"x\")\n",
    "f.close()"
   ]
  },
  {
   "cell_type": "code",
   "execution_count": 19,
   "metadata": {},
   "outputs": [],
   "source": [
    "with open(\"F:/CARPETAS/Cursos/Python/Tareas/texto/texto_1.txt\", mode=\"w\") as f:\n",
    "    for key,value in dicc_info.items():\n",
    "        f.write(\"{} : {}\\n\".format(key,value))"
   ]
  },
  {
   "cell_type": "markdown",
   "metadata": {},
   "source": [
    "# Problema 2"
   ]
  },
  {
   "cell_type": "code",
   "execution_count": 22,
   "metadata": {},
   "outputs": [
    {
     "name": "stdout",
     "output_type": "stream",
     "text": [
      "name : Rafael\n",
      "surname : Solar\n",
      "age : 23\n",
      "color : Azul\n",
      "\n"
     ]
    }
   ],
   "source": [
    "with open(\"F:/CARPETAS/Cursos/Python/Tareas/texto/texto_1.txt\", mode=\"r\") as f:\n",
    "    print(f.read())"
   ]
  },
  {
   "cell_type": "markdown",
   "metadata": {},
   "source": [
    "# Problema 3"
   ]
  },
  {
   "cell_type": "code",
   "execution_count": 23,
   "metadata": {},
   "outputs": [],
   "source": [
    "f =  open(\"F:/CARPETAS/Cursos/Python/Tareas/texto/ej3.txt\", mode = \"x\")\n",
    "f.close()"
   ]
  },
  {
   "cell_type": "markdown",
   "metadata": {},
   "source": [
    "# Problema 4"
   ]
  },
  {
   "cell_type": "code",
   "execution_count": 25,
   "metadata": {},
   "outputs": [],
   "source": [
    "import os\n",
    "os.remove(\"F:/CARPETAS/Cursos/Python/Tareas/texto/ej3.txt\")"
   ]
  },
  {
   "cell_type": "markdown",
   "metadata": {},
   "source": [
    "# Problema 5"
   ]
  },
  {
   "cell_type": "code",
   "execution_count": 26,
   "metadata": {},
   "outputs": [],
   "source": [
    "f =  open(\"F:/CARPETAS/Cursos/Python/Tareas/texto/ej5.txt\", mode = \"x\")\n",
    "f.close()"
   ]
  },
  {
   "cell_type": "code",
   "execution_count": 27,
   "metadata": {},
   "outputs": [],
   "source": [
    "with open(\"F:/CARPETAS/Cursos/Python/Tareas/texto/ej5.txt\", mode=\"a\") as f:\n",
    "    f.write(\"x,y,Color,Shape \\n\")\n",
    "    f.write(\"1,1,#6fb7ff,< \\n\")\n",
    "    f.write(\"-1,1,#ffa66f,v \\n\")\n",
    "    f.write(\"-1,-1,#ffee6f,> \\n\")\n",
    "    f.write(\"1,-1,#db6fff,^ \\n\")"
   ]
  },
  {
   "cell_type": "markdown",
   "metadata": {},
   "source": [
    "# Problema 6"
   ]
  },
  {
   "cell_type": "code",
   "execution_count": 33,
   "metadata": {},
   "outputs": [
    {
     "name": "stdout",
     "output_type": "stream",
     "text": [
      "['x', 'y', 'Color', 'Shape ']\n",
      "['1', '1', '#6fb7ff', '< ']\n",
      "['-1', '1', '#ffa66f', 'v ']\n",
      "['-1', '-1', '#ffee6f', '> ']\n",
      "['1', '-1', '#db6fff', '^ ']\n"
     ]
    }
   ],
   "source": [
    "import csv\n",
    "\n",
    "with open(\"F:/CARPETAS/Cursos/Python/Tareas/texto/ej5.txt\", mode=\"r\") as f:\n",
    "    df = []\n",
    "    reader = csv.reader(f, skipinitialspace = True)\n",
    "    for row in reader:\n",
    "        df.append(row)\n",
    "        print(row)"
   ]
  },
  {
   "cell_type": "markdown",
   "metadata": {},
   "source": [
    "# Problema 7"
   ]
  },
  {
   "cell_type": "code",
   "execution_count": 42,
   "metadata": {},
   "outputs": [
    {
     "name": "stdout",
     "output_type": "stream",
     "text": [
      "   x  y    Color Shape \n",
      "0  1  1  #6fb7ff     < \n",
      "1 -1  1  #ffa66f     v \n",
      "2 -1 -1  #ffee6f     > \n",
      "3  1 -1  #db6fff     ^ \n"
     ]
    }
   ],
   "source": [
    "import pandas as pd\n",
    "dt = pd.read_csv(\"F:/CARPETAS/Cursos/Python/Tareas/texto/ej5.txt\")\n",
    "print(dt)"
   ]
  },
  {
   "cell_type": "markdown",
   "metadata": {},
   "source": [
    "# Problema 8"
   ]
  },
  {
   "cell_type": "code",
   "execution_count": 98,
   "metadata": {},
   "outputs": [
    {
     "data": {
      "image/png": "[encoded data removed]",
      "text/plain": [
       "<Figure size 360x360 with 1 Axes>"
      ]
     },
     "metadata": {
      "needs_background": "light"
     },
     "output_type": "display_data"
    }
   ],
   "source": [
    "import matplotlib.pyplot as plt\n",
    "import seaborn as sns\n",
    "plt.figure(figsize=(5,5))\n",
    "sns.scatterplot(data=dt,x=\"x\",y=\"y\",\n",
    "               \n",
    "                s=500)\n",
    "plt.title(\"Puntos\")\n",
    "plt.show()"
   ]
  },
  {
   "cell_type": "markdown",
   "metadata": {},
   "source": [
    "# Problema 9"
   ]
  },
  {
   "cell_type": "code",
   "execution_count": 92,
   "metadata": {},
   "outputs": [
    {
     "data": {
      "image/png": "[encoded data removed]",
      "text/plain": [
       "<Figure size 360x360 with 1 Axes>"
      ]
     },
     "metadata": {
      "needs_background": "light"
     },
     "output_type": "display_data"
    }
   ],
   "source": [
    "import matplotlib.pyplot as plt\n",
    "import seaborn as sns\n",
    "plt.figure(figsize=(5,5))\n",
    "sns.scatterplot(data=dt,x=\"x\",y=\"y\",\n",
    "                hue=\"Color\",palette=[\"#6fb7ff\",\"#ffa66f\",\"#ffee6f\",\"#db6fff\"],\n",
    "                style= \"Shape \", markers=[\"<\",\"v\",\">\",\"^\"]\n",
    "                )\n",
    "plt.title(\"Puntos\")\n",
    "plt.show()"
   ]
  },
  {
   "cell_type": "markdown",
   "metadata": {},
   "source": [
    "# Problema 10"
   ]
  },
  {
   "cell_type": "code",
   "execution_count": 93,
   "metadata": {},
   "outputs": [],
   "source": [
    "f = open(\"F:/CARPETAS/Cursos/Python/Tareas/texto/ej10.csv\", mode=\"x\")\n",
    "f.close()"
   ]
  },
  {
   "cell_type": "code",
   "execution_count": 97,
   "metadata": {},
   "outputs": [],
   "source": [
    "with open(\"F:/CARPETAS/Cursos/Python/Tareas/texto/ej10.csv\", mode=\"w\") as f:\n",
    "    writer = csv.writer(f)\n",
    "    for row in data:\n",
    "        writer.writerow(row)\n",
    "    "
   ]
  }
 ],
 "metadata": {
  "interpreter": {
   "hash": "08a402f7958e52253c749cc4f3bccfe0076adead38207d93fd2e91a8cafc5857"
  },
  "kernelspec": {
   "display_name": "Python 3.9.7 64-bit ('base': conda)",
   "language": "python",
   "name": "python3"
  },
  "language_info": {
   "codemirror_mode": {
    "name": "ipython",
    "version": 3
   },
   "file_extension": ".py",
   "mimetype": "text/x-python",
   "name": "python",
   "nbconvert_exporter": "python",
   "pygments_lexer": "ipython3",
   "version": "3.9.7"
  },
  "orig_nbformat": 4
 },
 "nbformat": 4,
 "nbformat_minor": 2
}
